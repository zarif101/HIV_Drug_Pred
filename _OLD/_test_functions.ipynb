{
 "cells": [
  {
   "cell_type": "code",
   "execution_count": 2,
   "id": "e9f8079f",
   "metadata": {},
   "outputs": [],
   "source": [
    "from util import get_data,tokenize_smiles"
   ]
  },
  {
   "cell_type": "code",
   "execution_count": 3,
   "id": "16776357",
   "metadata": {},
   "outputs": [],
   "source": [
    "X_train,X_test,y_train,y_test = get_data('data/HIV.csv',split=True,test_size=0.19)"
   ]
  },
  {
   "cell_type": "code",
   "execution_count": 4,
   "id": "e6db3412",
   "metadata": {},
   "outputs": [
    {
     "data": {
      "text/plain": [
       "array(['CCOC(=O)C(=Cc1cccc(Cl)c1)P(=O)(OCC)OCC',\n",
       "       'NCCSSc1ccccc1[N+](=O)[O-]', 'CN(C)C1=CC(=O)C(=O)c2ccncc21', ...,\n",
       "       'COc1ccc2nc(C(=O)c3ccccc3)c(C)cc2c1',\n",
       "       'CN(C)CCCNC(=O)CNC(=O)c1cc(NC(=O)c2cc(NC(=O)c3cc(NC(=O)CCNC(=O)c4cc(NC(=O)c5cc(NC(=O)c6nccn6C)cn5C)cn4C)cn3C)cn2C)cn1C.O=C(O)C(F)(F)F',\n",
       "       'CSC1(C)CC2C(CC1N1CCCCC1)C2(C)C'], dtype=object)"
      ]
     },
     "execution_count": 4,
     "metadata": {},
     "output_type": "execute_result"
    }
   ],
   "source": [
    "X_train"
   ]
  },
  {
   "cell_type": "code",
   "execution_count": 5,
   "id": "9a7deb4b",
   "metadata": {
    "scrolled": false
   },
   "outputs": [
    {
     "name": "stderr",
     "output_type": "stream",
     "text": [
      "Setting 'max_len_single_sentence' is now deprecated. This value is automatically set up.\n",
      "Setting 'max_len_sentences_pair' is now deprecated. This value is automatically set up.\n",
      "Setting 'max_len_single_sentence' is now deprecated. This value is automatically set up.\n",
      "Setting 'max_len_sentences_pair' is now deprecated. This value is automatically set up.\n"
     ]
    }
   ],
   "source": [
    "X_test_vec = tokenize_smiles(X_test)\n",
    "X_train_vec = tokenize_smiles(X_train)"
   ]
  },
  {
   "cell_type": "code",
   "execution_count": 6,
   "id": "992d1d43",
   "metadata": {},
   "outputs": [],
   "source": [
    "X_train_vec = X_train_vec.reshape((-1,410))"
   ]
  },
  {
   "cell_type": "code",
   "execution_count": 7,
   "id": "be449367",
   "metadata": {},
   "outputs": [],
   "source": [
    "from tensorflow.keras.utils import to_categorical"
   ]
  },
  {
   "cell_type": "code",
   "execution_count": 63,
   "id": "5b3111ef",
   "metadata": {},
   "outputs": [],
   "source": [
    "a = to_categorical(X_train_vec[:8000])"
   ]
  },
  {
   "cell_type": "code",
   "execution_count": 65,
   "id": "dd4dd400",
   "metadata": {},
   "outputs": [
    {
     "data": {
      "text/plain": [
       "(8000, 410, 554)"
      ]
     },
     "execution_count": 65,
     "metadata": {},
     "output_type": "execute_result"
    }
   ],
   "source": [
    "a.shape"
   ]
  },
  {
   "cell_type": "code",
   "execution_count": 61,
   "id": "15f26a42",
   "metadata": {},
   "outputs": [],
   "source": [
    "w = a[0]"
   ]
  },
  {
   "cell_type": "code",
   "execution_count": 57,
   "id": "4d5db37a",
   "metadata": {},
   "outputs": [
    {
     "data": {
      "text/html": [
       "<div>\n",
       "<style scoped>\n",
       "    .dataframe tbody tr th:only-of-type {\n",
       "        vertical-align: middle;\n",
       "    }\n",
       "\n",
       "    .dataframe tbody tr th {\n",
       "        vertical-align: top;\n",
       "    }\n",
       "\n",
       "    .dataframe thead th {\n",
       "        text-align: right;\n",
       "    }\n",
       "</style>\n",
       "<table border=\"1\" class=\"dataframe\">\n",
       "  <thead>\n",
       "    <tr style=\"text-align: right;\">\n",
       "      <th></th>\n",
       "      <th>[PAD]</th>\n",
       "    </tr>\n",
       "  </thead>\n",
       "  <tbody>\n",
       "    <tr>\n",
       "      <th>0</th>\n",
       "      <td>[unused1]</td>\n",
       "    </tr>\n",
       "    <tr>\n",
       "      <th>1</th>\n",
       "      <td>[unused2]</td>\n",
       "    </tr>\n",
       "    <tr>\n",
       "      <th>2</th>\n",
       "      <td>[unused3]</td>\n",
       "    </tr>\n",
       "    <tr>\n",
       "      <th>3</th>\n",
       "      <td>[unused4]</td>\n",
       "    </tr>\n",
       "    <tr>\n",
       "      <th>4</th>\n",
       "      <td>[unused5]</td>\n",
       "    </tr>\n",
       "    <tr>\n",
       "      <th>...</th>\n",
       "      <td>...</td>\n",
       "    </tr>\n",
       "    <tr>\n",
       "      <th>585</th>\n",
       "      <td>[13N]</td>\n",
       "    </tr>\n",
       "    <tr>\n",
       "      <th>586</th>\n",
       "      <td>[15OH2]</td>\n",
       "    </tr>\n",
       "    <tr>\n",
       "      <th>587</th>\n",
       "      <td>[2NH]</td>\n",
       "    </tr>\n",
       "    <tr>\n",
       "      <th>588</th>\n",
       "      <td>[Ho]</td>\n",
       "    </tr>\n",
       "    <tr>\n",
       "      <th>589</th>\n",
       "      <td>[Cn]</td>\n",
       "    </tr>\n",
       "  </tbody>\n",
       "</table>\n",
       "<p>590 rows × 1 columns</p>\n",
       "</div>"
      ],
      "text/plain": [
       "         [PAD]\n",
       "0    [unused1]\n",
       "1    [unused2]\n",
       "2    [unused3]\n",
       "3    [unused4]\n",
       "4    [unused5]\n",
       "..         ...\n",
       "585      [13N]\n",
       "586    [15OH2]\n",
       "587      [2NH]\n",
       "588       [Ho]\n",
       "589       [Cn]\n",
       "\n",
       "[590 rows x 1 columns]"
      ]
     },
     "execution_count": 57,
     "metadata": {},
     "output_type": "execute_result"
    }
   ],
   "source": [
    "import pandas as pd\n",
    "vocab = pd.read_csv('data/smiles_vocab.txt')\n",
    "vocab"
   ]
  },
  {
   "cell_type": "code",
   "execution_count": null,
   "id": "80c6ec34",
   "metadata": {},
   "outputs": [],
   "source": []
  },
  {
   "cell_type": "code",
   "execution_count": null,
   "id": "d4f9ac12",
   "metadata": {},
   "outputs": [],
   "source": []
  },
  {
   "cell_type": "code",
   "execution_count": null,
   "id": "7fe73fd0",
   "metadata": {},
   "outputs": [],
   "source": []
  },
  {
   "cell_type": "code",
   "execution_count": null,
   "id": "27ed2f39",
   "metadata": {},
   "outputs": [],
   "source": []
  },
  {
   "cell_type": "code",
   "execution_count": null,
   "id": "4d3a1f34",
   "metadata": {},
   "outputs": [],
   "source": []
  }
 ],
 "metadata": {
  "kernelspec": {
   "display_name": "Python [conda env:anothertorch]",
   "language": "python",
   "name": "conda-env-anothertorch-py"
  },
  "language_info": {
   "codemirror_mode": {
    "name": "ipython",
    "version": 3
   },
   "file_extension": ".py",
   "mimetype": "text/x-python",
   "name": "python",
   "nbconvert_exporter": "python",
   "pygments_lexer": "ipython3",
   "version": "3.8.10"
  }
 },
 "nbformat": 4,
 "nbformat_minor": 5
}
