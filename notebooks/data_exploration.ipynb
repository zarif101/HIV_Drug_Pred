{
 "cells": [
  {
   "cell_type": "code",
   "execution_count": 7,
   "id": "10e0bb88",
   "metadata": {},
   "outputs": [],
   "source": [
    "from util import get_data\n",
    "import seaborn as sns\n",
    "import matplotlib.pyplot as plt\n",
    "import pandas as pd"
   ]
  },
  {
   "cell_type": "code",
   "execution_count": 2,
   "id": "c8a7a79d",
   "metadata": {},
   "outputs": [],
   "source": [
    "X_train,X_test,y_train,y_test = get_data('data/HIV.csv')"
   ]
  },
  {
   "cell_type": "code",
   "execution_count": 6,
   "id": "5cf02087",
   "metadata": {},
   "outputs": [
    {
     "name": "stdout",
     "output_type": "stream",
     "text": [
      "Train size  (32901,)\n",
      "Test size  (8226,)\n"
     ]
    }
   ],
   "source": [
    "print('Train size ',y_train.shape)\n",
    "print('Test size ',y_test.shape)"
   ]
  },
  {
   "cell_type": "code",
   "execution_count": 8,
   "id": "5df40da7",
   "metadata": {},
   "outputs": [],
   "source": [
    "# Pandas Series are easy to work with and have many useful methods\n",
    "y_train = pd.Series(y_train)\n",
    "y_test = pd.Series(y_test)"
   ]
  },
  {
   "cell_type": "code",
   "execution_count": 12,
   "id": "30eaa0c3",
   "metadata": {},
   "outputs": [
    {
     "data": {
      "text/plain": [
       "<AxesSubplot:ylabel='count'>"
      ]
     },
     "execution_count": 12,
     "metadata": {},
     "output_type": "execute_result"
    },
    {
     "data": {
      "image/png": "[encoded data removed]",
      "text/plain": [
       "<Figure size 432x288 with 1 Axes>"
      ]
     },
     "metadata": {
      "needs_background": "light"
     },
     "output_type": "display_data"
    }
   ],
   "source": [
    "sns.countplot(x=y_train)"
   ]
  },
  {
   "cell_type": "code",
   "execution_count": 13,
   "id": "c36d7119",
   "metadata": {},
   "outputs": [
    {
     "data": {
      "text/plain": [
       "<AxesSubplot:ylabel='count'>"
      ]
     },
     "execution_count": 13,
     "metadata": {},
     "output_type": "execute_result"
    },
    {
     "data": {
      "image/png": "[encoded data removed]",
      "text/plain": [
       "<Figure size 432x288 with 1 Axes>"
      ]
     },
     "metadata": {
      "needs_background": "light"
     },
     "output_type": "display_data"
    }
   ],
   "source": [
    "sns.countplot(x=y_test)"
   ]
  },
  {
   "cell_type": "code",
   "execution_count": 17,
   "id": "89dcf06b",
   "metadata": {},
   "outputs": [
    {
     "data": {
      "text/plain": [
       "0    31767\n",
       "1     1134\n",
       "dtype: int64"
      ]
     },
     "execution_count": 17,
     "metadata": {},
     "output_type": "execute_result"
    }
   ],
   "source": [
    "y_train.value_counts()"
   ]
  },
  {
   "cell_type": "code",
   "execution_count": 18,
   "id": "671d214e",
   "metadata": {},
   "outputs": [
    {
     "data": {
      "text/plain": [
       "0    7917\n",
       "1     309\n",
       "dtype: int64"
      ]
     },
     "execution_count": 18,
     "metadata": {},
     "output_type": "execute_result"
    }
   ],
   "source": [
    "y_test.value_counts()"
   ]
  },
  {
   "cell_type": "code",
   "execution_count": 20,
   "id": "5cb03d4a",
   "metadata": {},
   "outputs": [
    {
     "name": "stdout",
     "output_type": "stream",
     "text": [
      "3.5697421852866182\n"
     ]
    }
   ],
   "source": [
    "y_train_true_perc = (1134/31767)*100\n",
    "print(y_train_true_perc)"
   ]
  },
  {
   "cell_type": "code",
   "execution_count": 22,
   "id": "a6399a7f",
   "metadata": {},
   "outputs": [
    {
     "name": "stdout",
     "output_type": "stream",
     "text": [
      "3.902993558165972\n"
     ]
    }
   ],
   "source": [
    "y_test_true_perc = (309/7917)*100\n",
    "print(y_test_true_perc)"
   ]
  },
  {
   "cell_type": "code",
   "execution_count": null,
   "id": "bc648551",
   "metadata": {},
   "outputs": [],
   "source": [
    "# Conclusion: Classes are heavily imbalanced!"
   ]
  }
 ],
 "metadata": {
  "kernelspec": {
   "display_name": "Python [conda env:anothertorch] *",
   "language": "python",
   "name": "conda-env-anothertorch-py"
  },
  "language_info": {
   "codemirror_mode": {
    "name": "ipython",
    "version": 3
   },
   "file_extension": ".py",
   "mimetype": "text/x-python",
   "name": "python",
   "nbconvert_exporter": "python",
   "pygments_lexer": "ipython3",
   "version": "3.8.10"
  }
 },
 "nbformat": 4,
 "nbformat_minor": 5
}
